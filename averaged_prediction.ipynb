{
 "cells": [
  {
   "cell_type": "code",
   "execution_count": 2,
   "metadata": {},
   "outputs": [],
   "source": [
    "import pandas as pd"
   ]
  },
  {
   "cell_type": "markdown",
   "metadata": {},
   "source": [
    "### Read the prediction from the 5 models"
   ]
  },
  {
   "cell_type": "code",
   "execution_count": 10,
   "metadata": {},
   "outputs": [],
   "source": [
    "path = \"code/experiments/14-03-2021_23:37:10/\"\n",
    "\n",
    "df1 = pd.read_csv(path + \"epoch79_test_predicted.csv\")\n",
    "df2 = pd.read_csv(path + \"epoch71_test_predicted.csv\")\n",
    "df3 = pd.read_csv(path + \"epoch47_test_predicted.csv\")\n",
    "df4 = pd.read_csv(path + \"epoch43_test_predicted.csv\")\n",
    "df5 = pd.read_csv(path + \"epoch42_test_predicted.csv\")\n",
    "\n",
    "df = pd.concat([df1, df2, df3, df4, df5])"
   ]
  },
  {
   "cell_type": "code",
   "execution_count": 12,
   "metadata": {},
   "outputs": [],
   "source": [
    "df = df.groupby(\"sample_id\").mean()"
   ]
  },
  {
   "cell_type": "code",
   "execution_count": 13,
   "metadata": {},
   "outputs": [
    {
     "data": {
      "text/html": [
       "<div>\n",
       "<style scoped>\n",
       "    .dataframe tbody tr th:only-of-type {\n",
       "        vertical-align: middle;\n",
       "    }\n",
       "\n",
       "    .dataframe tbody tr th {\n",
       "        vertical-align: top;\n",
       "    }\n",
       "\n",
       "    .dataframe thead th {\n",
       "        text-align: right;\n",
       "    }\n",
       "</style>\n",
       "<table border=\"1\" class=\"dataframe\">\n",
       "  <thead>\n",
       "    <tr style=\"text-align: right;\">\n",
       "      <th></th>\n",
       "      <th>no_data</th>\n",
       "      <th>clouds</th>\n",
       "      <th>artificial</th>\n",
       "      <th>cultivated</th>\n",
       "      <th>broadleaf</th>\n",
       "      <th>coniferous</th>\n",
       "      <th>herbaceous</th>\n",
       "      <th>natural</th>\n",
       "      <th>snow</th>\n",
       "      <th>water</th>\n",
       "    </tr>\n",
       "    <tr>\n",
       "      <th>sample_id</th>\n",
       "      <th></th>\n",
       "      <th></th>\n",
       "      <th></th>\n",
       "      <th></th>\n",
       "      <th></th>\n",
       "      <th></th>\n",
       "      <th></th>\n",
       "      <th></th>\n",
       "      <th></th>\n",
       "      <th></th>\n",
       "    </tr>\n",
       "  </thead>\n",
       "  <tbody>\n",
       "    <tr>\n",
       "      <th>10087</th>\n",
       "      <td>0.0</td>\n",
       "      <td>0.0</td>\n",
       "      <td>0.007703</td>\n",
       "      <td>0.347784</td>\n",
       "      <td>0.195480</td>\n",
       "      <td>0.002887</td>\n",
       "      <td>0.440451</td>\n",
       "      <td>0.000000</td>\n",
       "      <td>0.0</td>\n",
       "      <td>0.005695</td>\n",
       "    </tr>\n",
       "    <tr>\n",
       "      <th>10088</th>\n",
       "      <td>0.0</td>\n",
       "      <td>0.0</td>\n",
       "      <td>0.005319</td>\n",
       "      <td>0.502512</td>\n",
       "      <td>0.172836</td>\n",
       "      <td>0.001187</td>\n",
       "      <td>0.318146</td>\n",
       "      <td>0.000000</td>\n",
       "      <td>0.0</td>\n",
       "      <td>0.000000</td>\n",
       "    </tr>\n",
       "    <tr>\n",
       "      <th>10089</th>\n",
       "      <td>0.0</td>\n",
       "      <td>0.0</td>\n",
       "      <td>0.049173</td>\n",
       "      <td>0.333368</td>\n",
       "      <td>0.225674</td>\n",
       "      <td>0.019827</td>\n",
       "      <td>0.364850</td>\n",
       "      <td>0.000000</td>\n",
       "      <td>0.0</td>\n",
       "      <td>0.007108</td>\n",
       "    </tr>\n",
       "    <tr>\n",
       "      <th>10090</th>\n",
       "      <td>0.0</td>\n",
       "      <td>0.0</td>\n",
       "      <td>0.014413</td>\n",
       "      <td>0.044366</td>\n",
       "      <td>0.507880</td>\n",
       "      <td>0.144754</td>\n",
       "      <td>0.288422</td>\n",
       "      <td>0.000043</td>\n",
       "      <td>0.0</td>\n",
       "      <td>0.000122</td>\n",
       "    </tr>\n",
       "    <tr>\n",
       "      <th>10091</th>\n",
       "      <td>0.0</td>\n",
       "      <td>0.0</td>\n",
       "      <td>0.022940</td>\n",
       "      <td>0.387708</td>\n",
       "      <td>0.192075</td>\n",
       "      <td>0.019550</td>\n",
       "      <td>0.377313</td>\n",
       "      <td>0.000000</td>\n",
       "      <td>0.0</td>\n",
       "      <td>0.000415</td>\n",
       "    </tr>\n",
       "  </tbody>\n",
       "</table>\n",
       "</div>"
      ],
      "text/plain": [
       "           no_data  clouds  artificial  cultivated  broadleaf  coniferous  \\\n",
       "sample_id                                                                   \n",
       "10087          0.0     0.0    0.007703    0.347784   0.195480    0.002887   \n",
       "10088          0.0     0.0    0.005319    0.502512   0.172836    0.001187   \n",
       "10089          0.0     0.0    0.049173    0.333368   0.225674    0.019827   \n",
       "10090          0.0     0.0    0.014413    0.044366   0.507880    0.144754   \n",
       "10091          0.0     0.0    0.022940    0.387708   0.192075    0.019550   \n",
       "\n",
       "           herbaceous   natural  snow     water  \n",
       "sample_id                                        \n",
       "10087        0.440451  0.000000   0.0  0.005695  \n",
       "10088        0.318146  0.000000   0.0  0.000000  \n",
       "10089        0.364850  0.000000   0.0  0.007108  \n",
       "10090        0.288422  0.000043   0.0  0.000122  \n",
       "10091        0.377313  0.000000   0.0  0.000415  "
      ]
     },
     "execution_count": 13,
     "metadata": {},
     "output_type": "execute_result"
    }
   ],
   "source": [
    "df.head()"
   ]
  },
  {
   "cell_type": "code",
   "execution_count": 14,
   "metadata": {},
   "outputs": [],
   "source": [
    "df.to_csv(path + 'test_prediction_score.csv')"
   ]
  },
  {
   "cell_type": "code",
   "execution_count": null,
   "metadata": {},
   "outputs": [],
   "source": []
  }
 ],
 "metadata": {
  "kernelspec": {
   "display_name": "Python 3",
   "language": "python",
   "name": "python3"
  },
  "language_info": {
   "codemirror_mode": {
    "name": "ipython",
    "version": 3
   },
   "file_extension": ".py",
   "mimetype": "text/x-python",
   "name": "python",
   "nbconvert_exporter": "python",
   "pygments_lexer": "ipython3",
   "version": "3.6.9"
  }
 },
 "nbformat": 4,
 "nbformat_minor": 2
}
