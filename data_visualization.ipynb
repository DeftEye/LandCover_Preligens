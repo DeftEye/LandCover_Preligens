{
 "cells": [
  {
   "cell_type": "code",
   "execution_count": null,
   "metadata": {},
   "outputs": [],
   "source": [
    "%load_ext autoreload\n",
    "%autoreload 2\n",
    "\n",
    "from pathlib import Path\n",
    "import random\n",
    "\n",
    "import numpy as np\n",
    "from tifffile import TiffFile\n",
    "import matplotlib.pyplot as plt\n",
    "from tqdm import tqdm\n",
    "\n",
    "from framework.dataset import LandCoverData as LCD"
   ]
  },
  {
   "cell_type": "markdown",
   "metadata": {},
   "source": [
    "Note: you might have to change your path to the unzipped dataset. Mine is at `~/challenge-ens/data/dataset_UNZIPPED`. The dataset folder should be like this :\n",
    "```\n",
    "dataset_UNZIPPED\n",
    "├── test\n",
    "│   └── images\n",
    "│       ├── 10087.tif\n",
    "│       ├── 10088.tif\n",
    "│       ├── 10089.tif\n",
    "│       ├── 10090.tif\n",
    "        ... (5043 files)\n",
    "└── train\n",
    "    ├── images\n",
    "    │   ├── 10000.tif\n",
    "    │   ├── 10001.tif\n",
    "    │   ├── 10002.tif\n",
    "    │   ├── 10003.tif\n",
    "        ... (18491 files)\n",
    "    └── masks\n",
    "        ├── 10000.tif\n",
    "        ├── 10001.tif\n",
    "        ├── 10002.tif\n",
    "        ├── 10003.tif\n",
    "        ... (18491 files)\n",
    "```"
   ]
  },
  {
   "cell_type": "code",
   "execution_count": null,
   "metadata": {},
   "outputs": [],
   "source": [
    "DATA_FOLDER_STR = '~/Document/CentraleSupelec/LandCover_Preligens/'\n",
    "DATA_FOLDER = Path(DATA_FOLDER_STR).expanduser()\n",
    "# path to the unzipped dataset: contains directories train/ and test/\n",
    "DATASET_FOLDER = DATA_FOLDER/'dataset'\n",
    "\n",
    "# get all train images and masks\n",
    "train_images_paths = sorted(list(DATASET_FOLDER.glob('train/images/*.tif')))\n",
    "train_masks_paths = sorted(list(DATASET_FOLDER.glob('train/masks/*.tif')))\n",
    "# get all test images\n",
    "test_images_paths = sorted(list(DATASET_FOLDER.glob('test/images/*.tif')))"
   ]
  },
  {
   "cell_type": "markdown",
   "metadata": {},
   "source": [
    "## Visualize data points"
   ]
  },
  {
   "cell_type": "code",
   "execution_count": null,
   "metadata": {},
   "outputs": [],
   "source": [
    "def show_image(image, display_min=50, display_max=400, ax=None):\n",
    "    \"\"\"Show an image.\n",
    "    Args:\n",
    "        image (numpy.array[uint16]): the image. If the image is 16-bit, apply bytescaling to convert to 8-bit\n",
    "    \"\"\"\n",
    "    if image.dtype == np.uint16:\n",
    "        iscale = display_max - display_min\n",
    "        scale = 255 / iscale\n",
    "        byte_im = (image) * scale\n",
    "        byte_im = (byte_im.clip(0, 255) + 0.5).astype(np.uint8)\n",
    "        image = byte_im\n",
    "    # show image\n",
    "    if ax is None:\n",
    "        fig, ax = plt.subplots(figsize=(10, 10))\n",
    "    ax.axis(\"off\")\n",
    "    im = ax.imshow(image)\n",
    "    return im\n",
    "\n",
    "def show_mask(mask, classes_colorpalette, classes=None, add_legend=True, ax=None):\n",
    "    \"\"\"Show a a semantic segmentation mask.\n",
    "    Args:\n",
    "       mask (numpy.array[uint8]): the mask in 8-bit\n",
    "       classes_colorpalette (dict[int, tuple]): dict mapping class index to an RGB color in [0, 1]\n",
    "       classes (list[str], optional): list of class labels\n",
    "       add_legend\n",
    "    \"\"\"\n",
    "    show_mask = np.empty((*mask.shape, 3))\n",
    "    for c, color in classes_colorpalette.items():\n",
    "        show_mask[mask == c, :] = color\n",
    "    if ax is None:\n",
    "        fig, ax = plt.subplots(figsize=(10, 10))\n",
    "    ax.axis(\"off\")\n",
    "    im = ax.imshow(show_mask)\n",
    "    if add_legend:\n",
    "        # show legend mapping pixel colors to class names\n",
    "        import matplotlib.patches as mpatches\n",
    "        handles = []\n",
    "        for c, color in classes_colorpalette.items():\n",
    "            handles.append(mpatches.Patch(color=color, label=classes[c]))\n",
    "        ax.legend(handles=handles)\n",
    "    return im"
   ]
  },
  {
   "cell_type": "markdown",
   "metadata": {},
   "source": [
    "### Plot a few (image, mask) pairs from the training set\n",
    "Note: The satellite images are in 16-bit format and need to be converted to 8-bit format (\"bytescaling\") for plotting with matplotlib. The bytescaling creates colors not faithful to the original picture. Below we use parameters for bytescaling (namely `display_min` and `display_max` that render the images as dark and blueish."
   ]
  },
  {
   "cell_type": "code",
   "execution_count": null,
   "metadata": {},
   "outputs": [],
   "source": [
    "# Show 10 random (image, mask) pairs from the training set\n",
    "for k, idx in enumerate(random.sample(range(len(train_images_paths)), 10)):\n",
    "    image_path = train_images_paths[idx]\n",
    "    mask_path = train_masks_paths[idx]\n",
    "    assert image_path.name == mask_path.name\n",
    "    \n",
    "    with TiffFile(image_path) as tif:\n",
    "        arr = tif.asarray()        \n",
    "    fig, axs = plt.subplots(1, 2, figsize=(10, 10))\n",
    "    show_image(arr, display_min=0, display_max=2200, ax=axs[0])\n",
    "    \n",
    "    with TiffFile(mask_path) as tif:\n",
    "        arr = tif.asarray()\n",
    "    classes_colorpalette = {c: color/255. for (c, color) in LCD.CLASSES_COLORPALETTE.items()}\n",
    "    show_mask(arr,\n",
    "              classes_colorpalette = classes_colorpalette,\n",
    "              classes=LCD.CLASSES,\n",
    "              add_legend=(k == 0),\n",
    "              ax=axs[1]\n",
    "    )\n",
    "    axs[0].set_title(f'Image: {image_path.name}')\n",
    "    axs[1].set_title('Mask')\n",
    "    #fig.tight_layout()"
   ]
  },
  {
   "cell_type": "markdown",
   "metadata": {},
   "source": [
    "### Plot a few images from the training set"
   ]
  },
  {
   "cell_type": "code",
   "execution_count": null,
   "metadata": {},
   "outputs": [],
   "source": [
    "# Show 10 random images from the testing set\n",
    "for idx in random.sample(range(len(test_images_paths)), 10):\n",
    "    image_path = test_images_paths[idx]\n",
    "    \n",
    "    with TiffFile(image_path) as tif:\n",
    "        arr = tif.asarray()        \n",
    "    fig, ax = plt.subplots(figsize=(10, 10))\n",
    "    show_image(arr, display_min=0, display_max=2200, ax=ax)\n",
    "    \n",
    "    ax.set_title(f'Image: {image_path.name}')\n",
    "    #fig.tight_layout()"
   ]
  },
  {
   "cell_type": "markdown",
   "metadata": {},
   "source": [
    "## Plot total class distribution in the training set"
   ]
  },
  {
   "cell_type": "code",
   "execution_count": null,
   "metadata": {},
   "outputs": [],
   "source": [
    "# Compute total class distribution in train\n",
    "def compute_class_counts(masks_paths, n_classes=10):\n",
    "    \"\"\"Return the cumulated class counts for all masks in the training set.\n",
    "    Args:\n",
    "        masks_paths (list[path-like]): paths to all masks \n",
    "    \"\"\"\n",
    "    cumcount = np.zeros((n_classes,), dtype=np.int64)\n",
    "    for path in tqdm(train_masks_paths):\n",
    "        with TiffFile(path) as tif:\n",
    "            arr = tif.asarray()\n",
    "            count = np.bincount(arr.ravel(), minlength=10)\n",
    "            # hist, _ = np.histogram(arr, bins=n_classes, range=(0, 10)) # @todo: use bincount\n",
    "            cumcount += count\n",
    "    return cumcount\n",
    "    \n",
    "train_class_counts = compute_class_counts(train_masks_paths, n_classes=LCD.N_CLASSES)\n",
    "# this should be equal to LandCoverData.TRAIN_CLASS_COUNTS\n",
    "assert (train_class_counts == LCD.TRAIN_CLASS_COUNTS).all()\n",
    "# normalize to get a distribution\n",
    "train_class_dist = train_class_counts / train_class_counts.sum()"
   ]
  },
  {
   "cell_type": "code",
   "execution_count": null,
   "metadata": {},
   "outputs": [],
   "source": [
    "def plot_class_distributions(class_counts, classes=None, class_colors=None):\n",
    "    \"\"\"Plot the proportion of the number of pixels for every class\n",
    "    Args:\n",
    "        class_counts (numpy.array): the raw class counts of shape (N_CLASSES,)\n",
    "        classes (list[str], optional): list of class labels\n",
    "        class_colors (numpy.array, optional): array of colors of shape (N_CLASSES, 3) in [0, 1]\n",
    "    \"\"\"\n",
    "    rc_dict = { # font params for display\n",
    "        'axes.titlesize': 19,\n",
    "        'axes.labelsize': 16,\n",
    "        'lines.linewidth': 2,\n",
    "        'lines.markersize': 8,\n",
    "        'font.size': 12,\n",
    "        'xtick.labelsize': 12,\n",
    "        'ytick.labelsize': 12\n",
    "    }\n",
    "    with plt.style.context(['seaborn', rc_dict]):\n",
    "        class_dist = class_counts / class_counts.sum()\n",
    "        fig, ax = plt.subplots(figsize=(12, 8))\n",
    "        rects = ax.bar(range(len(class_dist)), class_dist, color=class_colors)\n",
    "        ax.set_xticks(range(len(class_dist)))\n",
    "        if classes is not None:\n",
    "            ax.set_xticklabels(classes, rotation=90)\n",
    "       \n",
    "        for i, v in enumerate(class_counts):\n",
    "            ax.text(i, class_dist[i] + 0.005, \"{:.2e}\".format(v))\n",
    "        ax.set_xlabel(\"Classes\")\n",
    "        ax.set_ylabel(\"Proportion of the number of pixels\")\n",
    "        ax.set_title(\"Training set\")"
   ]
  },
  {
   "cell_type": "code",
   "execution_count": null,
   "metadata": {},
   "outputs": [],
   "source": [
    "plot_class_distributions(\n",
    "    train_class_counts,\n",
    "    classes=list(LCD.CLASSES),\n",
    "    class_colors = np.asarray(list(LCD.CLASSES_COLORPALETTE.values()))/255.\n",
    ")"
   ]
  },
  {
   "cell_type": "code",
   "execution_count": null,
   "metadata": {},
   "outputs": [],
   "source": []
  }
 ],
 "metadata": {
  "kernelspec": {
   "display_name": "Python 3",
   "language": "python",
   "name": "python3"
  },
  "language_info": {
   "codemirror_mode": {
    "name": "ipython",
    "version": 3
   },
   "file_extension": ".py",
   "mimetype": "text/x-python",
   "name": "python",
   "nbconvert_exporter": "python",
   "pygments_lexer": "ipython3",
   "version": "3.7.9"
  }
 },
 "nbformat": 4,
 "nbformat_minor": 4
}
